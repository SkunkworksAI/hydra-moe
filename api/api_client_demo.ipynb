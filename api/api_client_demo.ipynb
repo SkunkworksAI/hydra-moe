{
 "cells": [
  {
   "cell_type": "code",
   "execution_count": null,
   "metadata": {},
   "outputs": [],
   "source": [
    "import httpx\n",
    "import json\n",
    "\n",
    "# Define the API endpoint and headers\n",
    "url = 'http://127.0.0.1:8000/api/v1/chat/chat'\n",
    "headers = {\n",
    "    'accept': 'application/json',\n",
    "    'Content-Type': 'application/json',\n",
    "}\n",
    "\n",
    "# Define the payload (data to be sent)\n",
    "payload = {\n",
    "    'query': 'string together 500 words to tell a story',\n",
    "    'session_id': 'string',\n",
    "    'model': 'string',\n",
    "    'temperature': 0,\n",
    "    'max_tokens': 0\n",
    "}\n",
    "\n",
    "# Make the POST request using httpx\n",
    "response = httpx.post(url, headers=headers, json=payload, timeout=60.0)\n",
    "\n",
    "# Check for successful request and print the response\n",
    "if response.status_code == 200:\n",
    "    print(f\"Success: {response.json()}\")\n",
    "else:\n",
    "    print(f\"Failed: {response.status_code}\")\n"
   ]
  }
 ],
 "metadata": {
  "kernelspec": {
   "display_name": "venv",
   "language": "python",
   "name": "python3"
  },
  "language_info": {
   "codemirror_mode": {
    "name": "ipython",
    "version": 3
   },
   "file_extension": ".py",
   "mimetype": "text/x-python",
   "name": "python",
   "nbconvert_exporter": "python",
   "pygments_lexer": "ipython3",
   "version": "3.10.12"
  }
 },
 "nbformat": 4,
 "nbformat_minor": 2
}
