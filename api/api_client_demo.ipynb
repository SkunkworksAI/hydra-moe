{
 "cells": [
  {
   "cell_type": "code",
   "execution_count": null,
   "metadata": {},
   "outputs": [],
   "source": [
    "import httpx\n",
    "\n",
    "url = 'http://127.0.0.1:8000/api/v1/chat/chat'\n",
    "\n",
    "headers = {\n",
    "    'accept': 'application/json',\n",
    "    'Content-Type': 'application/json',\n",
    "}\n",
    "\n",
    "payload = {\n",
    "    'query': 'Recite a random sonnet?',\n",
    "    'session_id': 'string',\n",
    "    'model': 'string',\n",
    "    'temperature': 0,\n",
    "    'max_tokens': 0\n",
    "}\n",
    "\n",
    "with httpx.stream(\"POST\", url, headers=headers, json=payload, timeout=60.0) as response:\n",
    "    if response.status_code == 200:\n",
    "        for chunk in response.iter_text():\n",
    "            print(chunk, end='')  \n",
    "    else:\n",
    "        print(f\"Failed: {response.status_code}\")\n",
    "        \n",
    "with httpx.stream(\"POST\", url, headers=headers, json=payload, timeout=60.0) as response:\n",
    "    if response.status_code == 200:\n",
    "        for chunk in response.iter_text():\n",
    "            print(chunk, end='')  \n",
    "    else:\n",
    "        print(f\"Failed: {response.status_code}\")\n",
    "        "
   ]
  }
 ],
 "metadata": {
  "kernelspec": {
   "display_name": "venv",
   "language": "python",
   "name": "python3"
  },
  "language_info": {
   "codemirror_mode": {
    "name": "ipython",
    "version": 3
   },
   "file_extension": ".py",
   "mimetype": "text/x-python",
   "name": "python",
   "nbconvert_exporter": "python",
   "pygments_lexer": "ipython3",
   "version": "3.10.12"
  }
 },
 "nbformat": 4,
 "nbformat_minor": 2
}
