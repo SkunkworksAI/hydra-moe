{
 "cells": [
  {
   "cell_type": "markdown",
   "metadata": {},
   "source": [
    "This notebook demonstrates Mistralic inference using the vllm openai mock api "
   ]
  },
  {
   "cell_type": "code",
   "execution_count": 1,
   "metadata": {},
   "outputs": [],
   "source": [
    "from vllm import SamplingParams\n",
    "\n",
    "%load_ext autoreload\n",
    "%autoreload 2"
   ]
  },
  {
   "cell_type": "code",
   "execution_count": 2,
   "metadata": {},
   "outputs": [
    {
     "name": "stdout",
     "output_type": "stream",
     "text": [
      "Received response:\n",
      "{\n",
      "    \"id\": \"cmpl-405b135f289c421994f0fe0bd920ba8a\",\n",
      "    \"object\": \"chat.completion\",\n",
      "    \"created\": 282012,\n",
      "    \"model\": \"SkunkworksAI/Mistralic-7B-1\",\n",
      "    \"choices\": [\n",
      "        {\n",
      "            \"index\": 0,\n",
      "            \"message\": {\n",
      "                \"role\": \"assistant\",\n",
      "                \"content\": \"\\n\\nA hydra is a mythological creature with multiple heads, which are always regenerating. In Greek mythology, the hydra was a fearsome monster that lived in the waters of Lake Lerna. It had nine heads, and each time one of its heads was cut off, two more would grow in its place. The hydra was a symbol of evil and chaos, and its defeat was celebrated as a triumph of good over evil.\\n\\nOne day, a young warrior named Heracles set out to slay the hydra. Heracles was known for his strength and courage, and he was determined to defeat this terrible monster. He armed himself with a sword and a shield, and set out to find the hydra's lair.\\n\\nWhen he finally found the hydra, he saw that it was indeed a fearsome creature. It had nine heads, and each head was spitting venom and breathing fire. Heracles knew that he would have to be quick and precise if he wanted to defeat the hydra.\\n\\nHe approached the hydra carefully, and when it saw him, it reared up and opened its mouths to attack. Heracles swung his sword, and with a single blow, he cut off one of the hydra's heads. But as he expected, two more heads grew in its place.\\n\\nHeracles continued to fight the hydra, cutting off head after head. Each time, two more heads would grow in its place. But Heracles was determined to win, and he kept fighting until all nine heads were gone.\\n\\nWhen the hydra was finally defeated, Heracles celebrated his victory with great joy. The hydra was a symbol of evil and chaos, and its defeat was seen as a sign of hope and renewal. From that day forward, the hydra became a symbol of resilience and the power of good over evil.\"\n",
      "            },\n",
      "            \"finish_reason\": \"stop\"\n",
      "        }\n",
      "    ],\n",
      "    \"usage\": {\n",
      "        \"prompt_tokens\": 10,\n",
      "        \"total_tokens\": 403,\n",
      "        \"completion_tokens\": 393\n",
      "    }\n",
      "}\n",
      "\n",
      "Pretty printed message content:\n",
      "\n",
      "\n",
      "A hydra is a mythological creature with multiple heads, which are always regenerating. In Greek\n",
      "mythology, the hydra was a fearsome monster that lived in the waters of Lake Lerna. It had nine\n",
      "heads, and each time one of its heads was cut off, two more would grow in its place. The hydra was a\n",
      "symbol of evil and chaos, and its defeat was celebrated as a triumph of good over evil.\n",
      "\n",
      "One day, a young warrior named Heracles set out to slay the hydra. Heracles was known for his\n",
      "strength and courage, and he was determined to defeat this terrible monster. He armed himself with a\n",
      "sword and a shield, and set out to find the hydra's lair.\n",
      "\n",
      "When he finally found the hydra, he saw that it was indeed a fearsome creature. It had nine heads,\n",
      "and each head was spitting venom and breathing fire. Heracles knew that he would have to be quick\n",
      "and precise if he wanted to defeat the hydra.\n",
      "\n",
      "He approached the hydra carefully, and when it saw him, it reared up and opened its mouths to\n",
      "attack. Heracles swung his sword, and with a single blow, he cut off one of the hydra's heads. But\n",
      "as he expected, two more heads grew in its place.\n",
      "\n",
      "Heracles continued to fight the hydra, cutting off head after head. Each time, two more heads would\n",
      "grow in its place. But Heracles was determined to win, and he kept fighting until all nine heads\n",
      "were gone.\n",
      "\n",
      "When the hydra was finally defeated, Heracles celebrated his victory with great joy. The hydra was a\n",
      "symbol of evil and chaos, and its defeat was seen as a sign of hope and renewal. From that day\n",
      "forward, the hydra became a symbol of resilience and the power of good over evil.\n"
     ]
    }
   ],
   "source": [
    "from api_utils import wrap_and_print, post_request_async, get_default_sample_params\n",
    "import json \n",
    "model=\"SkunkworksAI/Mistralic-7B-1\"\n",
    "query = \"Tell me a story about a hydra.\"\n",
    "params: SamplingParams = get_default_sample_params()\n",
    "response = await post_request_async(params, model, query)\n",
    "if response:\n",
    "    print(\"Received response:\")\n",
    "    pretty_json = json.dumps(response, indent=4)\n",
    "    print(pretty_json)\n",
    "\n",
    "    message_content = response.get('choices', [{}])[0].get('message', {}).get('content', '')\n",
    "    print(\"\\nPretty printed message content:\")\n",
    "    print(wrap_and_print(message_content))"
   ]
  },
  {
   "cell_type": "code",
   "execution_count": 3,
   "metadata": {},
   "outputs": [
    {
     "name": "stderr",
     "output_type": "stream",
     "text": [
      "usage: ipykernel_launcher.py [-h] [--host HOST] [--port PORT]\n",
      "                             [--model-url MODEL_URL]\n",
      "ipykernel_launcher.py: error: unrecognized arguments: --ip=127.0.0.1 --stdin=9029 --control=9027 --hb=9026 --Session.signature_scheme=\"hmac-sha256\" --Session.key=b\"7c60cf65-4a21-4a12-9bb0-6cf78beb7cf4\" --shell=9028 --transport=\"tcp\" --iopub=9030 --f=/home/jphillips/.local/share/jupyter/runtime/kernel-v2-2118959rTf79Ms4CKQC.json\n"
     ]
    },
    {
     "ename": "SystemExit",
     "evalue": "2",
     "output_type": "error",
     "traceback": [
      "An exception has occurred, use %tb to see the full traceback.\n",
      "\u001b[0;31mSystemExit\u001b[0m\u001b[0;31m:\u001b[0m 2\n"
     ]
    },
    {
     "name": "stderr",
     "output_type": "stream",
     "text": [
      "/home/jphillips/hydra-moe/venv/lib/python3.10/site-packages/IPython/core/interactiveshell.py:3534: UserWarning: To exit: use 'exit', 'quit', or Ctrl-D.\n",
      "  warn(\"To exit: use 'exit', 'quit', or Ctrl-D.\", stacklevel=1)\n"
     ]
    }
   ],
   "source": []
  }
 ],
 "metadata": {
  "kernelspec": {
   "display_name": "venv",
   "language": "python",
   "name": "python3"
  },
  "language_info": {
   "codemirror_mode": {
    "name": "ipython",
    "version": 3
   },
   "file_extension": ".py",
   "mimetype": "text/x-python",
   "name": "python",
   "nbconvert_exporter": "python",
   "pygments_lexer": "ipython3",
   "version": "3.10.12"
  }
 },
 "nbformat": 4,
 "nbformat_minor": 2
}
